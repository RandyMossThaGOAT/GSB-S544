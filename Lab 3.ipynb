{
  "cells": [
    {
      "cell_type": "markdown",
      "metadata": {},
      "source": [
        "---\n",
        "title: Lab_1\n",
        "jupyter: python3\n",
        "format: \n",
        "  html:\n",
        "    embed-resources: true\n",
        "---\n"
      ]
    },
    {
      "cell_type": "code",
      "execution_count": 137,
      "metadata": {
        "id": "D9sShVl-DZ4g"
      },
      "outputs": [],
      "source": [
        "import pandas as pd\n",
        "xmas = pd.read_csv(\"https://www.dropbox.com/scl/fi/qxaslqqp5p08i1650rpc4/xmas.csv?rlkey=erdxi7jbh7pqf9fh4lv4cayp5&dl=1\")"
      ]
    },
    {
      "cell_type": "markdown",
      "metadata": {},
      "source": [
        "Using the skeleton of the pluralize_gift() function, complete the code so that the function takes a gift and returns the appropriate plural."
      ]
    },
    {
      "cell_type": "markdown",
      "metadata": {},
      "source": [
        "I used AI for general debugging help, anywhere where serious help was used is listed, as instructed"
      ]
    },
    {
      "cell_type": "code",
      "execution_count": 138,
      "metadata": {},
      "outputs": [],
      "source": [
        "def pluralize_gift(gift):\n",
        "  \"\"\"\n",
        "  Returns plural of a noun\n",
        "  \n",
        "  Parameters\n",
        "  ----------\n",
        "  gift: str\n",
        "    A noun\n",
        "    \n",
        "  Return\n",
        "  ------\n",
        "  str\n",
        "    Plural version\n",
        "  \"\"\"\n",
        "\n",
        "  if gift.endswith('y'):\n",
        "    gift = gift[:-1] + 'ies'\n",
        "  elif gift.endswith(('s', 'sh', 'ch', 'x', 'z')):\n",
        "    gift = gift + 'es'\n",
        "  else:\n",
        "    gift = gift + 's'\n",
        "\n",
        "  return gift\n"
      ]
    },
    {
      "cell_type": "code",
      "execution_count": 139,
      "metadata": {},
      "outputs": [
        {
          "data": {
            "text/plain": [
              "'Doggies'"
            ]
          },
          "execution_count": null,
          "metadata": {},
          "output_type": "execute_result"
        }
      ],
      "source": [
        "# Unit Testing\n",
        "pluralize_gift(\"dog\")\n",
        "pluralize_gift(\"dish\")\n",
        "pluralize_gift(\"Doggy\")"
      ]
    },
    {
      "cell_type": "markdown",
      "metadata": {},
      "source": [
        "Try your function out on the smaller and then larger gift data set. Consider: is your function vectorized? If not, how would you run it on all the gifts in the column."
      ]
    },
    {
      "cell_type": "code",
      "execution_count": 140,
      "metadata": {},
      "outputs": [
        {
          "data": {
            "text/plain": [
              "'gooses'"
            ]
          },
          "execution_count": null,
          "metadata": {},
          "output_type": "execute_result"
        }
      ],
      "source": [
        "# Should work\n",
        "pluralize_gift(\"goose\")\n",
        "\n",
        "# Will work if your function is vectorized! \n",
        "# pluralize_gift(xmas['Gift.Item'])\n",
        "# I made this a comment because it kept messing up the \"run All\" command later on in my testing"
      ]
    },
    {
      "cell_type": "markdown",
      "metadata": {},
      "source": [
        "It will not work using a vector, meaning that mapping will be needed for iteration in later steps"
      ]
    },
    {
      "cell_type": "markdown",
      "metadata": {},
      "source": [
        "Write a function called make_phrase() that takes as input the necessary information, and returns a phrase. For example,\n",
        "\n",
        "make_phrase(num_word = \"ten\", \n",
        "            item = \"lords\", \n",
        "            verb = \"a-leaping\", \n",
        "            adjective = \"\", \n",
        "            location = \"\")\n",
        "should return\n",
        "\n",
        "\"ten lords a-leaping\""
      ]
    },
    {
      "cell_type": "code",
      "execution_count": 141,
      "metadata": {},
      "outputs": [],
      "source": [
        "def make_phrase(num, num_word, item, verb, adjective, location):\n",
        "    \"\"\"\n",
        "    Makes phrase for the Twelve Days of Christmas song.\n",
        "    \n",
        "    Parameters\n",
        "    ----------\n",
        "    num : int\n",
        "        Day number from 1-12 (ex. 10)\n",
        "    num_word : str\n",
        "        The number in word form (ex. \"ten\")\n",
        "    item : str\n",
        "        The gift (ex. \"lord\")\n",
        "    verb : str\n",
        "        The verb happening (ex., \"a-leaping\")\n",
        "    adjective : str\n",
        "        The adjective describing the gift (ex. \"fluffy)\n",
        "    location : str\n",
        "        The location (ex. \"in a pear tree\")\n",
        "    \n",
        "    Returns\n",
        "    -------\n",
        "    str\n",
        "        A phrase combining all pieces\n",
        "    \"\"\"\n",
        "    \n",
        "    ## Step 1: Replace NAs with blank strings\n",
        "    verb = \"\" if pd.isna(verb) else verb\n",
        "    adjective = \"\" if pd.isna(adjective) else adjective\n",
        "    location = \"\" if pd.isna(location) else location\n",
        "    \n",
        "    ## Step 2: If the day number is larger than 1, the gift items need pluralized!\n",
        "    ### Hint: call the function you created above!\n",
        "    if num > 1:\n",
        "        item = pluralize_gift(item)\n",
        "    \n",
        "    ## Step 3: Figure out if a gift item starts with a vowel\n",
        "    starts_with_vowel = item[0].lower() in 'aeiou'\n",
        "    \n",
        "    ## Step 4: For the first day, if the gift item starts with a vowel, replace the day with \"an\" and if the gift item does not start with a vowel, replace the day with \"a\" (e.g. a partridge in a pear tree). If it is not the first day, use just the number word (e.g. ten lords a leap)\n",
        "    if num == 1:\n",
        "        day_word = \"an\" if starts_with_vowel else \"a\"\n",
        "    else:\n",
        "        day_word = num_word\n",
        "    \n",
        "    ## Step 5: Put all of the pieces together into one string and return!\n",
        "    pieces = [day_word, adjective, item, verb, location]\n",
        "    phrase = \" \".join([p for p in pieces if p != \"\"])\n",
        "    \n",
        "    return phrase\n"
      ]
    },
    {
      "cell_type": "code",
      "execution_count": 142,
      "metadata": {},
      "outputs": [
        {
          "data": {
            "text/plain": [
              "'a dog Jumping'"
            ]
          },
          "execution_count": null,
          "metadata": {},
          "output_type": "execute_result"
        }
      ],
      "source": [
        "make_phrase(1, \"one\", \"dog\", \"Jumping\", \"\", \"\")"
      ]
    },
    {
      "cell_type": "markdown",
      "metadata": {},
      "source": [
        "Make sure to try your function out on small examples and on the xmas data.\n",
        "\n",
        "Then, use the function to make a new column of the xmas column called Full.Phrase containing the sentences for the new gift on that day."
      ]
    },
    {
      "cell_type": "code",
      "execution_count": 143,
      "metadata": {},
      "outputs": [
        {
          "name": "stdout",
          "output_type": "stream",
          "text": [
            "Index(['Day', 'Day.in.Words', 'Gift.Item', 'Verb', 'Adjective', 'Location'], dtype='object')\n"
          ]
        }
      ],
      "source": [
        "# FIguring out columns for the next function\n",
        "print(xmas.columns)\n"
      ]
    },
    {
      "cell_type": "code",
      "execution_count": 144,
      "metadata": {},
      "outputs": [],
      "source": [
        "xmas['Full.Phrase'] = xmas.apply(\n",
        "    lambda row: make_phrase(\n",
        "        num=row['Day'],\n",
        "        num_word=row['Day.in.Words'],\n",
        "        item=row['Gift.Item'],\n",
        "        verb=row['Verb'],\n",
        "        adjective=row['Adjective'],\n",
        "        location=row['Location']\n",
        "    ),\n",
        "    axis=1\n",
        ")\n"
      ]
    },
    {
      "cell_type": "code",
      "execution_count": 145,
      "metadata": {},
      "outputs": [
        {
          "data": {
            "text/html": [
              "<div>\n",
              "<style scoped>\n",
              "    .dataframe tbody tr th:only-of-type {\n",
              "        vertical-align: middle;\n",
              "    }\n",
              "\n",
              "    .dataframe tbody tr th {\n",
              "        vertical-align: top;\n",
              "    }\n",
              "\n",
              "    .dataframe thead th {\n",
              "        text-align: right;\n",
              "    }\n",
              "</style>\n",
              "<table border=\"1\" class=\"dataframe\">\n",
              "  <thead>\n",
              "    <tr style=\"text-align: right;\">\n",
              "      <th></th>\n",
              "      <th>Day</th>\n",
              "      <th>Gift.Item</th>\n",
              "      <th>Full.Phrase</th>\n",
              "    </tr>\n",
              "  </thead>\n",
              "  <tbody>\n",
              "    <tr>\n",
              "      <th>0</th>\n",
              "      <td>1</td>\n",
              "      <td>partridge</td>\n",
              "      <td>a partridge in a pear tree</td>\n",
              "    </tr>\n",
              "    <tr>\n",
              "      <th>1</th>\n",
              "      <td>2</td>\n",
              "      <td>dove</td>\n",
              "      <td>second turtle doves</td>\n",
              "    </tr>\n",
              "    <tr>\n",
              "      <th>2</th>\n",
              "      <td>3</td>\n",
              "      <td>hen</td>\n",
              "      <td>third french hens</td>\n",
              "    </tr>\n",
              "    <tr>\n",
              "      <th>3</th>\n",
              "      <td>4</td>\n",
              "      <td>bird</td>\n",
              "      <td>fourth calling birds</td>\n",
              "    </tr>\n",
              "    <tr>\n",
              "      <th>4</th>\n",
              "      <td>5</td>\n",
              "      <td>ring</td>\n",
              "      <td>fifth golden rings</td>\n",
              "    </tr>\n",
              "  </tbody>\n",
              "</table>\n",
              "</div>"
            ],
            "text/plain": [
              "   Day  Gift.Item                 Full.Phrase\n",
              "0    1  partridge  a partridge in a pear tree\n",
              "1    2       dove         second turtle doves\n",
              "2    3        hen           third french hens\n",
              "3    4       bird        fourth calling birds\n",
              "4    5       ring          fifth golden rings"
            ]
          },
          "execution_count": null,
          "metadata": {},
          "output_type": "execute_result"
        }
      ],
      "source": [
        "xmas[['Day', 'Gift.Item', 'Full.Phrase']].head()\n"
      ]
    },
    {
      "cell_type": "markdown",
      "metadata": {},
      "source": [
        "I am getting the wrong terms for the full phrase when it comes to the numbers, like second instead of two and third insteda of three, so I am going to map it"
      ]
    },
    {
      "cell_type": "code",
      "execution_count": 146,
      "metadata": {},
      "outputs": [],
      "source": [
        "map_nums = {\n",
        "    \"first\": \"one\",\n",
        "    \"second\": \"two\",\n",
        "    \"third\": \"three\",\n",
        "    \"fourth\": \"four\",\n",
        "    \"fifth\": \"five\",\n",
        "    \"sixth\": \"six\",\n",
        "    \"seventh\": \"seven\",\n",
        "    \"eighth\": \"eight\",\n",
        "    \"ninth\": \"nine\",\n",
        "    \"tenth\": \"ten\",\n",
        "    \"eleventh\": \"eleven\",\n",
        "    \"twelfth\": \"twelve\"\n",
        "}\n",
        "\n",
        "# this includes the code to make NA values empty, rather than causing an error which I had to look up\n",
        "xmas['Day.in.Words'] = xmas['Day.in.Words'].map(map_nums).fillna(xmas['Day.in.Words'])"
      ]
    },
    {
      "cell_type": "code",
      "execution_count": 147,
      "metadata": {},
      "outputs": [],
      "source": [
        "xmas['Full.Phrase'] = xmas.apply(\n",
        "    lambda row: make_phrase(\n",
        "        num=row['Day'],\n",
        "        num_word=row['Day.in.Words'],\n",
        "        item=row['Gift.Item'],\n",
        "        verb=row['Verb'],\n",
        "        adjective=row['Adjective'],\n",
        "        location=row['Location']\n",
        "    ),\n",
        "    axis=1\n",
        ")"
      ]
    },
    {
      "cell_type": "code",
      "execution_count": 148,
      "metadata": {},
      "outputs": [
        {
          "data": {
            "text/html": [
              "<div>\n",
              "<style scoped>\n",
              "    .dataframe tbody tr th:only-of-type {\n",
              "        vertical-align: middle;\n",
              "    }\n",
              "\n",
              "    .dataframe tbody tr th {\n",
              "        vertical-align: top;\n",
              "    }\n",
              "\n",
              "    .dataframe thead th {\n",
              "        text-align: right;\n",
              "    }\n",
              "</style>\n",
              "<table border=\"1\" class=\"dataframe\">\n",
              "  <thead>\n",
              "    <tr style=\"text-align: right;\">\n",
              "      <th></th>\n",
              "      <th>Day</th>\n",
              "      <th>Gift.Item</th>\n",
              "      <th>Full.Phrase</th>\n",
              "    </tr>\n",
              "  </thead>\n",
              "  <tbody>\n",
              "    <tr>\n",
              "      <th>0</th>\n",
              "      <td>1</td>\n",
              "      <td>partridge</td>\n",
              "      <td>a partridge in a pear tree</td>\n",
              "    </tr>\n",
              "    <tr>\n",
              "      <th>1</th>\n",
              "      <td>2</td>\n",
              "      <td>dove</td>\n",
              "      <td>two turtle doves</td>\n",
              "    </tr>\n",
              "    <tr>\n",
              "      <th>2</th>\n",
              "      <td>3</td>\n",
              "      <td>hen</td>\n",
              "      <td>three french hens</td>\n",
              "    </tr>\n",
              "    <tr>\n",
              "      <th>3</th>\n",
              "      <td>4</td>\n",
              "      <td>bird</td>\n",
              "      <td>four calling birds</td>\n",
              "    </tr>\n",
              "    <tr>\n",
              "      <th>4</th>\n",
              "      <td>5</td>\n",
              "      <td>ring</td>\n",
              "      <td>five golden rings</td>\n",
              "    </tr>\n",
              "  </tbody>\n",
              "</table>\n",
              "</div>"
            ],
            "text/plain": [
              "   Day  Gift.Item                 Full.Phrase\n",
              "0    1  partridge  a partridge in a pear tree\n",
              "1    2       dove            two turtle doves\n",
              "2    3        hen           three french hens\n",
              "3    4       bird          four calling birds\n",
              "4    5       ring           five golden rings"
            ]
          },
          "execution_count": null,
          "metadata": {},
          "output_type": "execute_result"
        }
      ],
      "source": [
        "xmas[['Day', 'Gift.Item', 'Full.Phrase']].head()"
      ]
    },
    {
      "cell_type": "markdown",
      "metadata": {},
      "source": [
        "Write a function called sing_day() that takes as input:\n",
        "\n",
        "A dataset (input as a dataframe)\n",
        "\n",
        "A number indicating which day to sing about (input as an integer)\n",
        "\n",
        "The name of a column in the dataset that contains the phrases for each day (input as an tidy name)\n",
        "\n",
        "For example,\n",
        "\n",
        "sing_day(xmas, 2, Full.Phrase)\n",
        "should return\n",
        "\n",
        "On the second day of Christmas, my true love sent to me:\n",
        "two turtle doves and\n",
        "a partridge in a pear tree."
      ]
    },
    {
      "cell_type": "code",
      "execution_count": 149,
      "metadata": {},
      "outputs": [],
      "source": [
        "def sing_day(dataset, num, phrase_col):\n",
        "    \"\"\"\n",
        "    Sings the song for the input day of Christmas.\n",
        "\n",
        "    Parameters\n",
        "    ----------\n",
        "    dataset : pd.DataFrame\n",
        "        DataFrame with the gifts for each day\n",
        "    num : int\n",
        "        Which day to sing about (1-12)\n",
        "    phrase_col : str\n",
        "        Column name with the full phrases for each gift\n",
        "\n",
        "    Returns\n",
        "    -------\n",
        "    str\n",
        "        Full song for that day\n",
        "    \"\"\"\n",
        "    \n",
        "    # Step 1: Setup the intro line\n",
        "    number_map = {\n",
        "        1:\"first\", 2:\"second\", 3:\"third\", 4:\"fourth\", 5:\"fifth\",\n",
        "        6:\"sixth\", 7:\"seventh\", 8:\"eighth\", 9:\"ninth\", 10:\"tenth\",\n",
        "        11:\"eleventh\", 12:\"twelfth\"\n",
        "    }\n",
        "    num_word = number_map[num]\n",
        "    intro = \"On the \" + num_word + \" day of Christmas, my true love sent to me:\"\n",
        "\n",
        "    # Step 2: Sing the gift phrases\n",
        "    # Hint: What order are they gifts sung in each day?\n",
        "    gifts = \"\"\n",
        "    for i in range(num, 0, -1):\n",
        "        phrase = dataset.loc[dataset['Day'] == i, phrase_col].values[0]\n",
        "        if i == 1 and num > 1:\n",
        "            phrase = \"and \" + phrase\n",
        "        gifts += phrase + \"\\n\"\n",
        "\n",
        "    # Step 3: Put it all together and return\n",
        "    verse = intro + \"\\n\" + gifts.rstrip()\n",
        "    return verse\n"
      ]
    },
    {
      "cell_type": "code",
      "execution_count": 150,
      "metadata": {},
      "outputs": [
        {
          "data": {
            "text/plain": [
              "'On the tenth day of Christmas, my true love sent to me:\\nten lords a-leaping\\nnine ladies dancing\\neight maids a-milking\\nseven swans a-swimming\\nsix gooses a-laying\\nfive golden rings\\nfour calling birds\\nthree french hens\\ntwo turtle doves\\nand a partridge in a pear tree'"
            ]
          },
          "execution_count": null,
          "metadata": {},
          "output_type": "execute_result"
        }
      ],
      "source": [
        "sing_day(xmas, 10, \"Full.Phrase\")"
      ]
    },
    {
      "cell_type": "markdown",
      "metadata": {},
      "source": [
        "This testing line is working weirdly for me, making one long string w \\n's to show the different lines"
      ]
    },
    {
      "cell_type": "code",
      "execution_count": 151,
      "metadata": {},
      "outputs": [
        {
          "name": "stdout",
          "output_type": "stream",
          "text": [
            "On the twelfth day of Christmas, my true love sent to me:\n",
            "twelve drummers drumming\n",
            "eleven pipers piping\n",
            "ten lords a-leaping\n",
            "nine ladies dancing\n",
            "eight maids a-milking\n",
            "seven swans a-swimming\n",
            "six gooses a-laying\n",
            "five golden rings\n",
            "four calling birds\n",
            "three french hens\n",
            "two turtle doves\n",
            "and a partridge in a pear tree\n"
          ]
        }
      ],
      "source": [
        "print(sing_day(xmas, 12, 'Full.Phrase'))"
      ]
    },
    {
      "cell_type": "markdown",
      "metadata": {},
      "source": [
        "Though this very similar testing line is wokring much better, is this ok?\n"
      ]
    },
    {
      "cell_type": "markdown",
      "metadata": {},
      "source": [
        "Run appropriate code to output the lyrics for the entire 12 Days of Christmas song."
      ]
    },
    {
      "cell_type": "code",
      "execution_count": 152,
      "metadata": {},
      "outputs": [],
      "source": [
        "# Create a series of days 1 to 12\n",
        "days = pd.Series(range(1, 13))\n"
      ]
    },
    {
      "cell_type": "code",
      "execution_count": 153,
      "metadata": {},
      "outputs": [],
      "source": [
        "# Use .map() to generate each verse\n",
        "full_song = days.map(lambda day: sing_day(xmas, day, 'Full.Phrase'))"
      ]
    },
    {
      "cell_type": "code",
      "execution_count": 154,
      "metadata": {},
      "outputs": [
        {
          "name": "stdout",
          "output_type": "stream",
          "text": [
            "On the first day of Christmas, my true love sent to me:\n",
            "a partridge in a pear tree\n",
            "\n",
            "On the second day of Christmas, my true love sent to me:\n",
            "two turtle doves\n",
            "and a partridge in a pear tree\n",
            "\n",
            "On the third day of Christmas, my true love sent to me:\n",
            "three french hens\n",
            "two turtle doves\n",
            "and a partridge in a pear tree\n",
            "\n",
            "On the fourth day of Christmas, my true love sent to me:\n",
            "four calling birds\n",
            "three french hens\n",
            "two turtle doves\n",
            "and a partridge in a pear tree\n",
            "\n",
            "On the fifth day of Christmas, my true love sent to me:\n",
            "five golden rings\n",
            "four calling birds\n",
            "three french hens\n",
            "two turtle doves\n",
            "and a partridge in a pear tree\n",
            "\n",
            "On the sixth day of Christmas, my true love sent to me:\n",
            "six gooses a-laying\n",
            "five golden rings\n",
            "four calling birds\n",
            "three french hens\n",
            "two turtle doves\n",
            "and a partridge in a pear tree\n",
            "\n",
            "On the seventh day of Christmas, my true love sent to me:\n",
            "seven swans a-swimming\n",
            "six gooses a-laying\n",
            "five golden rings\n",
            "four calling birds\n",
            "three french hens\n",
            "two turtle doves\n",
            "and a partridge in a pear tree\n",
            "\n",
            "On the eighth day of Christmas, my true love sent to me:\n",
            "eight maids a-milking\n",
            "seven swans a-swimming\n",
            "six gooses a-laying\n",
            "five golden rings\n",
            "four calling birds\n",
            "three french hens\n",
            "two turtle doves\n",
            "and a partridge in a pear tree\n",
            "\n",
            "On the ninth day of Christmas, my true love sent to me:\n",
            "nine ladies dancing\n",
            "eight maids a-milking\n",
            "seven swans a-swimming\n",
            "six gooses a-laying\n",
            "five golden rings\n",
            "four calling birds\n",
            "three french hens\n",
            "two turtle doves\n",
            "and a partridge in a pear tree\n",
            "\n",
            "On the tenth day of Christmas, my true love sent to me:\n",
            "ten lords a-leaping\n",
            "nine ladies dancing\n",
            "eight maids a-milking\n",
            "seven swans a-swimming\n",
            "six gooses a-laying\n",
            "five golden rings\n",
            "four calling birds\n",
            "three french hens\n",
            "two turtle doves\n",
            "and a partridge in a pear tree\n",
            "\n",
            "On the eleventh day of Christmas, my true love sent to me:\n",
            "eleven pipers piping\n",
            "ten lords a-leaping\n",
            "nine ladies dancing\n",
            "eight maids a-milking\n",
            "seven swans a-swimming\n",
            "six gooses a-laying\n",
            "five golden rings\n",
            "four calling birds\n",
            "three french hens\n",
            "two turtle doves\n",
            "and a partridge in a pear tree\n",
            "\n",
            "On the twelfth day of Christmas, my true love sent to me:\n",
            "twelve drummers drumming\n",
            "eleven pipers piping\n",
            "ten lords a-leaping\n",
            "nine ladies dancing\n",
            "eight maids a-milking\n",
            "seven swans a-swimming\n",
            "six gooses a-laying\n",
            "five golden rings\n",
            "four calling birds\n",
            "three french hens\n",
            "two turtle doves\n",
            "and a partridge in a pear tree\n",
            "\n"
          ]
        }
      ],
      "source": [
        "# Optionally, display the lyrics\n",
        "for verse in full_song:\n",
        "    print(verse + \"\\n\")"
      ]
    },
    {
      "cell_type": "markdown",
      "metadata": {},
      "source": [
        "Then, load the following dataset, and run your code again on this dataset instead to get a surprise song! (The column names and formats of xmas2 are the same as those for xmas.)"
      ]
    },
    {
      "cell_type": "code",
      "execution_count": 155,
      "metadata": {},
      "outputs": [],
      "source": [
        "xmas2 = pd.read_csv(\"https://www.dropbox.com/scl/fi/p9x9k8xwuzs9rhp582vfy/xmas_2.csv?rlkey=kvc3j3lmyn4opcidsrhcmrof1&dl=1\")"
      ]
    },
    {
      "cell_type": "code",
      "execution_count": 156,
      "metadata": {},
      "outputs": [],
      "source": [
        "map_nums = {\n",
        "    \"first\": \"one\",\n",
        "    \"second\": \"two\",\n",
        "    \"third\": \"three\",\n",
        "    \"fourth\": \"four\",\n",
        "    \"fifth\": \"five\",\n",
        "    \"sixth\": \"six\",\n",
        "    \"seventh\": \"seven\",\n",
        "    \"eighth\": \"eight\",\n",
        "    \"ninth\": \"nine\",\n",
        "    \"tenth\": \"ten\",\n",
        "    \"eleventh\": \"eleven\",\n",
        "    \"twelfth\": \"twelve\"\n",
        "}\n",
        "\n",
        "# this includes the code to make NA values empty, rather than causing an error which I had to look up\n",
        "xmas2['Day.in.Words'] = xmas2['Day.in.Words'].map(map_nums).fillna(xmas2['Day.in.Words'])"
      ]
    },
    {
      "cell_type": "code",
      "execution_count": 157,
      "metadata": {},
      "outputs": [],
      "source": [
        "xmas2['Full.Phrase'] = xmas2.apply(\n",
        "    lambda row: make_phrase(\n",
        "        num=row['Day'],\n",
        "        num_word=row['Day.in.Words'],\n",
        "        item=row['Gift.Item'],\n",
        "        verb=row['Verb'],\n",
        "        adjective=row['Adjective'],\n",
        "        location=row['Location']\n",
        "    ),\n",
        "    axis=1\n",
        ")"
      ]
    },
    {
      "cell_type": "code",
      "execution_count": 158,
      "metadata": {},
      "outputs": [],
      "source": [
        "full_song2 = days.map(lambda day: sing_day(xmas2, day, 'Full.Phrase'))"
      ]
    },
    {
      "cell_type": "code",
      "execution_count": 159,
      "metadata": {},
      "outputs": [
        {
          "name": "stdout",
          "output_type": "stream",
          "text": [
            "On the first day of Christmas, my true love sent to me:\n",
            "an email from Cal Poly\n",
            "\n",
            "On the second day of Christmas, my true love sent to me:\n",
            "two meal points\n",
            "and an email from Cal Poly\n",
            "\n",
            "On the third day of Christmas, my true love sent to me:\n",
            "three lost pens\n",
            "two meal points\n",
            "and an email from Cal Poly\n",
            "\n",
            "On the fourth day of Christmas, my true love sent to me:\n",
            "four course reviews\n",
            "three lost pens\n",
            "two meal points\n",
            "and an email from Cal Poly\n",
            "\n",
            "On the fifth day of Christmas, my true love sent to me:\n",
            "five practice exams\n",
            "four course reviews\n",
            "three lost pens\n",
            "two meal points\n",
            "and an email from Cal Poly\n",
            "\n",
            "On the sixth day of Christmas, my true love sent to me:\n",
            "six graders grading\n",
            "five practice exams\n",
            "four course reviews\n",
            "three lost pens\n",
            "two meal points\n",
            "and an email from Cal Poly\n",
            "\n",
            "On the seventh day of Christmas, my true love sent to me:\n",
            "seven seniors stressing\n",
            "six graders grading\n",
            "five practice exams\n",
            "four course reviews\n",
            "three lost pens\n",
            "two meal points\n",
            "and an email from Cal Poly\n",
            "\n",
            "On the eighth day of Christmas, my true love sent to me:\n",
            "eight moms a-calling\n",
            "seven seniors stressing\n",
            "six graders grading\n",
            "five practice exams\n",
            "four course reviews\n",
            "three lost pens\n",
            "two meal points\n",
            "and an email from Cal Poly\n",
            "\n",
            "On the ninth day of Christmas, my true love sent to me:\n",
            "nine parties bumping\n",
            "eight moms a-calling\n",
            "seven seniors stressing\n",
            "six graders grading\n",
            "five practice exams\n",
            "four course reviews\n",
            "three lost pens\n",
            "two meal points\n",
            "and an email from Cal Poly\n",
            "\n",
            "On the tenth day of Christmas, my true love sent to me:\n",
            "ten loads of laundry\n",
            "nine parties bumping\n",
            "eight moms a-calling\n",
            "seven seniors stressing\n",
            "six graders grading\n",
            "five practice exams\n",
            "four course reviews\n",
            "three lost pens\n",
            "two meal points\n",
            "and an email from Cal Poly\n",
            "\n",
            "On the eleventh day of Christmas, my true love sent to me:\n",
            "eleven friends goodbye-ing\n",
            "ten loads of laundry\n",
            "nine parties bumping\n",
            "eight moms a-calling\n",
            "seven seniors stressing\n",
            "six graders grading\n",
            "five practice exams\n",
            "four course reviews\n",
            "three lost pens\n",
            "two meal points\n",
            "and an email from Cal Poly\n",
            "\n",
            "On the twelfth day of Christmas, my true love sent to me:\n",
            "twelve hours sleeping\n",
            "eleven friends goodbye-ing\n",
            "ten loads of laundry\n",
            "nine parties bumping\n",
            "eight moms a-calling\n",
            "seven seniors stressing\n",
            "six graders grading\n",
            "five practice exams\n",
            "four course reviews\n",
            "three lost pens\n",
            "two meal points\n",
            "and an email from Cal Poly\n",
            "\n"
          ]
        }
      ],
      "source": [
        "for verse in full_song2:\n",
        "    print(verse + \"\\n\")"
      ]
    }
  ],
  "metadata": {
    "colab": {
      "provenance": []
    },
    "kernelspec": {
      "display_name": "Python 3",
      "name": "python3"
    },
    "language_info": {
      "name": "python"
    }
  },
  "nbformat": 4,
  "nbformat_minor": 0
}
